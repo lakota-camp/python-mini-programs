{
 "cells": [
  {
   "cell_type": "markdown",
   "metadata": {},
   "source": [
    "# HW-4"
   ]
  },
  {
   "cell_type": "markdown",
   "metadata": {},
   "source": [
    "### Function to import CSV"
   ]
  },
  {
   "cell_type": "code",
   "execution_count": null,
   "metadata": {},
   "outputs": [],
   "source": [
    "import csv\n",
    "import json\n",
    "\n",
    "def import_csv_data(filename):\n",
    "    with open(filename, \"r\", encoding=\"latin-1\") as file:\n",
    "        return list(csv.reader(file))\n",
    "    \n",
    "def process_csv_data(data):\n",
    "    print(\"Data received in process_csv_data():\")\n",
    "\n",
    "    processed_data = []\n",
    "    for line in data:\n",
    "        processed_data.append(line)\n",
    "    \n",
    "\n",
    "data = import_csv_data(filename='./kickstarter_data_full.csv')\n",
    "print(\"Data loaded in main():\", data)  # Debug print to check data loading\n",
    "process_csv_data(data)\n",
    "\n"
   ]
  },
  {
   "cell_type": "markdown",
   "metadata": {},
   "source": [
    "## ML Functions"
   ]
  },
  {
   "cell_type": "code",
   "execution_count": null,
   "metadata": {},
   "outputs": [],
   "source": []
  },
  {
   "cell_type": "code",
   "execution_count": null,
   "metadata": {},
   "outputs": [],
   "source": [
    "import csv\n",
    "import json\n",
    "import sklearn.feature_extraction.text, sklearn.metrics, sklearn.model_selection, sklearn.neural_network\n",
    "import nltk, json, requests\n",
    "nltk.download(\"stopwords\")\n",
    "from nltk.corpus import stopwords\n",
    "\n",
    "def import_csv_data(filename):\n",
    "    with open(filename, \"r\", encoding=\"latin-1\") as file:\n",
    "        reader = csv.reader(file)\n",
    "        next(reader)\n",
    "        data = list(reader)\n",
    "        return data\n",
    "    \n",
    "def format_data(data):\n",
    "    print(\"Data received in process_csv_data():\")\n",
    "\n",
    "    text = []\n",
    "    y = []\n",
    "    for line in data:\n",
    "        num = line[0]\n",
    "        title = line[1]\n",
    "        blurb = line[2]\n",
    "        status = line[3]\n",
    "        requested = line[4]\n",
    "        description = line[5]\n",
    "        if status == \"Funding Successful\":\n",
    "            y.append(1)\n",
    "        else:\n",
    "            y.append(0)\n",
    "        \n",
    "        text.append(description)\n",
    "        \n",
    "        \n",
    "    # print(json.dumps(y, indent=4))\n",
    "    \n",
    "    return text, y\n",
    "\n",
    "def vectorize_x(text):\n",
    "    vectorizer = sklearn.feature_extraction.text.CountVectorizer(stop_words=stopwords.words(\"english\"), max_features = 1000) # Stop word argument\n",
    "    vectors = vectorizer.fit_transform(text)\n",
    "    x = vectors.toarray()\n",
    "    return x\n",
    "\n",
    "def build_nn(x, y):\n",
    "    x_train, x_test, y_train, y_test = sklearn.model_selection.train_test_split(x, y)\n",
    "    clf = sklearn.neural_network.MLPClassifier()\n",
    "    clf = clf.fit(x_train, y_train)\n",
    "    predictions = clf.predict(x_test)\n",
    "    accuracy = sklearn.metrics.accuracy_score(y_test, predictions)\n",
    "    # print(f\"Accuracy: {accuracy}\")\n",
    "    return {\n",
    "        \"predictions\": predictions,\n",
    "        \"accuracy\": accuracy,\n",
    "    }\n",
    "       \n",
    "def main():\n",
    "    data = import_csv_data(filename='./kickstarter_data_full.csv')\n",
    "    text, y = format_data(data)\n",
    "    x = vectorize_x(text)\n",
    "    results = build_nn(x, y)\n",
    "    print(json.dumps(results, indent=4))\n",
    "\n",
    "if __name__ == \"__main__\":\n",
    "    main()"
   ]
  },
  {
   "cell_type": "code",
   "execution_count": null,
   "metadata": {},
   "outputs": [
    {
     "name": "stdout",
     "output_type": "stream",
     "text": [
      "[[1, 10], [2, 20], [3, 30], [4, 40]]\n"
     ]
    }
   ],
   "source": [
    "# Helper Function to concatenate two arrays\n",
    "def concatenate_array(array_1, array_2):\n",
    "    return [list(array) for array in zip(array_1, array_2)]\n",
    "\n"
   ]
  },
  {
   "cell_type": "code",
   "execution_count": null,
   "metadata": {},
   "outputs": [],
   "source": []
  }
 ],
 "metadata": {
  "kernelspec": {
   "display_name": "venv",
   "language": "python",
   "name": "python3"
  },
  "language_info": {
   "codemirror_mode": {
    "name": "ipython",
    "version": 3
   },
   "file_extension": ".py",
   "mimetype": "text/x-python",
   "name": "python",
   "nbconvert_exporter": "python",
   "pygments_lexer": "ipython3",
   "version": "3.12.7"
  }
 },
 "nbformat": 4,
 "nbformat_minor": 2
}
