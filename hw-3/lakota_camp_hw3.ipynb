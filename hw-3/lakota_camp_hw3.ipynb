{
 "cells": [
  {
   "cell_type": "markdown",
   "metadata": {},
   "source": [
    "**Word 1**: choose a word related to the topic selected by the user."
   ]
  },
  {
   "cell_type": "code",
   "execution_count": null,
   "metadata": {},
   "outputs": [],
   "source": [
    "import requests\n",
    "import json\n",
    "import os"
   ]
  },
  {
   "cell_type": "code",
   "execution_count": null,
   "metadata": {},
   "outputs": [],
   "source": [
    "# base_url = 'https://api.datamuse.com'\n",
    "\n",
    "def word_one(base_url, word_one='programming'):\n",
    "\n",
    "    end_point = f'/words?md=s&rel_trg={word_one}'\n",
    "\n",
    "    muse_api_full_url = f'{base_url}{end_point}'\n",
    "\n",
    "    response = requests.get(muse_api_full_url)\n",
    "\n",
    "    if response:\n",
    "        print(\"Successful connection!\")\n",
    "        print(f'Status code:  {response.status_code}')\n",
    "        data = json.loads(response.text)\n",
    "        print(json.dumps(data, indent=4))\n",
    "    else:\n",
    "        print(\"Connection error. Request failed\")\n",
    "        print(f'Status code: {response.status_code}')\n",
    "        \n",
    "    \n",
    "\n",
    "# word_one(base_url)"
   ]
  },
  {
   "cell_type": "markdown",
   "metadata": {},
   "source": [
    "**Word 2**: search for words that commonly follow the previous word."
   ]
  },
  {
   "cell_type": "code",
   "execution_count": null,
   "metadata": {},
   "outputs": [],
   "source": [
    "\n",
    "# base_url = 'https://api.datamuse.com'\n",
    "\n",
    "def word_two(base_url, previous_word='Money'):    \n",
    "\n",
    "    end_point = f'/words?md=s&sp=*&lc={previous_word}'\n",
    "\n",
    "    muse_api_full_url = f'{base_url}{end_point}'\n",
    "\n",
    "    response = requests.get(muse_api_full_url)\n",
    "\n",
    "    if response:\n",
    "        print(\"Successful connection!\")\n",
    "        print(f'Status code:  {response.status_code}')\n",
    "        data = json.loads(response.text)\n",
    "        print(json.dumps(data, indent=4))\n",
    "    else:\n",
    "        print(\"Connection error. Request failed\")\n",
    "        print(f'Status code: {response.status_code}')\n",
    "\n",
    "# word_two(base_url)"
   ]
  },
  {
   "cell_type": "markdown",
   "metadata": {},
   "source": [
    "**Word 3**: end of each line of the Haiku, you must meet the rhyming requirement"
   ]
  },
  {
   "cell_type": "code",
   "execution_count": null,
   "metadata": {},
   "outputs": [],
   "source": [
    "# base_url = 'https://api.datamuse.com'\n",
    "\n",
    "def word_three(base_url, previous_word='Money', rhyme_word='time'):\n",
    "    end_point = f'/words?md=s&sp=*&lc={previous_word}&rel_rhy={rhyme_word}'\n",
    "    \n",
    "    muse_api_full_url = f'{base_url}{end_point}'\n",
    "\n",
    "    response = requests.get(muse_api_full_url)\n",
    "\n",
    "    if response:\n",
    "        print(\"Successful connection!\")\n",
    "        print(f'Status code:  {response.status_code}')\n",
    "        data = json.loads(response.text)\n",
    "        print(json.dumps(data, indent=4))\n",
    "    else:\n",
    "        print(\"Connection error. Request failed\")\n",
    "        print(f'Status code: {response.status_code}')\n",
    "    \n",
    "# word_three(base_url)"
   ]
  },
  {
   "cell_type": "code",
   "execution_count": null,
   "metadata": {},
   "outputs": [],
   "source": [
    "\n"
   ]
  },
  {
   "cell_type": "code",
   "execution_count": null,
   "metadata": {},
   "outputs": [],
   "source": []
  },
  {
   "cell_type": "code",
   "execution_count": 2,
   "metadata": {},
   "outputs": [
    {
     "name": "stdout",
     "output_type": "stream",
     "text": [
      "{1, 2, 3, 4, 5, 6}\n"
     ]
    }
   ],
   "source": []
  },
  {
   "cell_type": "code",
   "execution_count": null,
   "metadata": {},
   "outputs": [],
   "source": []
  }
 ],
 "metadata": {
  "kernelspec": {
   "display_name": "venv",
   "language": "python",
   "name": "python3"
  },
  "language_info": {
   "codemirror_mode": {
    "name": "ipython",
    "version": 3
   },
   "file_extension": ".py",
   "mimetype": "text/x-python",
   "name": "python",
   "nbconvert_exporter": "python",
   "pygments_lexer": "ipython3",
   "version": "3.12.4"
  }
 },
 "nbformat": 4,
 "nbformat_minor": 2
}
